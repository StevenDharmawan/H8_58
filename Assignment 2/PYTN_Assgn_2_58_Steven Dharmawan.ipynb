{
 "cells": [
  {
   "cell_type": "code",
   "execution_count": 1,
   "id": "7e31ae8c",
   "metadata": {},
   "outputs": [],
   "source": [
    "import numpy as np\n",
    "import pandas as pd\n",
    "import statsmodels.api as sm\n",
    "import matplotlib.pyplot as plt\n",
    "from fitter import Fitter"
   ]
  },
  {
   "cell_type": "code",
   "execution_count": 2,
   "id": "fc1e8233",
   "metadata": {},
   "outputs": [],
   "source": [
    "import seaborn as sns\n",
    "sns.set(color_codes=True)\n",
    "sns.set(rc={'figure.figsize':(5,5)})"
   ]
  },
  {
   "cell_type": "code",
   "execution_count": 3,
   "id": "68cc69f3",
   "metadata": {},
   "outputs": [],
   "source": [
    "pd.set_option('display.max.columns', None) #menampilkan semua kolom"
   ]
  },
  {
   "cell_type": "code",
   "execution_count": 4,
   "id": "42f13da9",
   "metadata": {
    "scrolled": false
   },
   "outputs": [
    {
     "data": {
      "text/html": [
       "<div>\n",
       "<style scoped>\n",
       "    .dataframe tbody tr th:only-of-type {\n",
       "        vertical-align: middle;\n",
       "    }\n",
       "\n",
       "    .dataframe tbody tr th {\n",
       "        vertical-align: top;\n",
       "    }\n",
       "\n",
       "    .dataframe thead th {\n",
       "        text-align: right;\n",
       "    }\n",
       "</style>\n",
       "<table border=\"1\" class=\"dataframe\">\n",
       "  <thead>\n",
       "    <tr style=\"text-align: right;\">\n",
       "      <th></th>\n",
       "      <th>Unnamed: 0</th>\n",
       "      <th>BOROUGH</th>\n",
       "      <th>NEIGHBORHOOD</th>\n",
       "      <th>BUILDING CLASS CATEGORY</th>\n",
       "      <th>TAX CLASS AT PRESENT</th>\n",
       "      <th>BLOCK</th>\n",
       "      <th>LOT</th>\n",
       "      <th>EASE-MENT</th>\n",
       "      <th>BUILDING CLASS AT PRESENT</th>\n",
       "      <th>ADDRESS</th>\n",
       "      <th>APARTMENT NUMBER</th>\n",
       "      <th>ZIP CODE</th>\n",
       "      <th>RESIDENTIAL UNITS</th>\n",
       "      <th>COMMERCIAL UNITS</th>\n",
       "      <th>TOTAL UNITS</th>\n",
       "      <th>LAND SQUARE FEET</th>\n",
       "      <th>GROSS SQUARE FEET</th>\n",
       "      <th>YEAR BUILT</th>\n",
       "      <th>TAX CLASS AT TIME OF SALE</th>\n",
       "      <th>BUILDING CLASS AT TIME OF SALE</th>\n",
       "      <th>SALE PRICE</th>\n",
       "      <th>SALE DATE</th>\n",
       "    </tr>\n",
       "  </thead>\n",
       "  <tbody>\n",
       "    <tr>\n",
       "      <th>0</th>\n",
       "      <td>4</td>\n",
       "      <td>1</td>\n",
       "      <td>ALPHABET CITY</td>\n",
       "      <td>07 RENTALS - WALKUP APARTMENTS</td>\n",
       "      <td>2A</td>\n",
       "      <td>392</td>\n",
       "      <td>6</td>\n",
       "      <td></td>\n",
       "      <td>C2</td>\n",
       "      <td>153 AVENUE B</td>\n",
       "      <td></td>\n",
       "      <td>10009</td>\n",
       "      <td>5</td>\n",
       "      <td>0</td>\n",
       "      <td>5</td>\n",
       "      <td>1633</td>\n",
       "      <td>6440</td>\n",
       "      <td>1900</td>\n",
       "      <td>2</td>\n",
       "      <td>C2</td>\n",
       "      <td>6625000</td>\n",
       "      <td>2017-07-19 00:00:00</td>\n",
       "    </tr>\n",
       "    <tr>\n",
       "      <th>1</th>\n",
       "      <td>5</td>\n",
       "      <td>1</td>\n",
       "      <td>ALPHABET CITY</td>\n",
       "      <td>07 RENTALS - WALKUP APARTMENTS</td>\n",
       "      <td>2</td>\n",
       "      <td>399</td>\n",
       "      <td>26</td>\n",
       "      <td></td>\n",
       "      <td>C7</td>\n",
       "      <td>234 EAST 4TH   STREET</td>\n",
       "      <td></td>\n",
       "      <td>10009</td>\n",
       "      <td>28</td>\n",
       "      <td>3</td>\n",
       "      <td>31</td>\n",
       "      <td>4616</td>\n",
       "      <td>18690</td>\n",
       "      <td>1900</td>\n",
       "      <td>2</td>\n",
       "      <td>C7</td>\n",
       "      <td>-</td>\n",
       "      <td>2016-12-14 00:00:00</td>\n",
       "    </tr>\n",
       "    <tr>\n",
       "      <th>2</th>\n",
       "      <td>6</td>\n",
       "      <td>1</td>\n",
       "      <td>ALPHABET CITY</td>\n",
       "      <td>07 RENTALS - WALKUP APARTMENTS</td>\n",
       "      <td>2</td>\n",
       "      <td>399</td>\n",
       "      <td>39</td>\n",
       "      <td></td>\n",
       "      <td>C7</td>\n",
       "      <td>197 EAST 3RD   STREET</td>\n",
       "      <td></td>\n",
       "      <td>10009</td>\n",
       "      <td>16</td>\n",
       "      <td>1</td>\n",
       "      <td>17</td>\n",
       "      <td>2212</td>\n",
       "      <td>7803</td>\n",
       "      <td>1900</td>\n",
       "      <td>2</td>\n",
       "      <td>C7</td>\n",
       "      <td>-</td>\n",
       "      <td>2016-12-09 00:00:00</td>\n",
       "    </tr>\n",
       "    <tr>\n",
       "      <th>3</th>\n",
       "      <td>7</td>\n",
       "      <td>1</td>\n",
       "      <td>ALPHABET CITY</td>\n",
       "      <td>07 RENTALS - WALKUP APARTMENTS</td>\n",
       "      <td>2B</td>\n",
       "      <td>402</td>\n",
       "      <td>21</td>\n",
       "      <td></td>\n",
       "      <td>C4</td>\n",
       "      <td>154 EAST 7TH STREET</td>\n",
       "      <td></td>\n",
       "      <td>10009</td>\n",
       "      <td>10</td>\n",
       "      <td>0</td>\n",
       "      <td>10</td>\n",
       "      <td>2272</td>\n",
       "      <td>6794</td>\n",
       "      <td>1913</td>\n",
       "      <td>2</td>\n",
       "      <td>C4</td>\n",
       "      <td>3936272</td>\n",
       "      <td>2016-09-23 00:00:00</td>\n",
       "    </tr>\n",
       "    <tr>\n",
       "      <th>4</th>\n",
       "      <td>8</td>\n",
       "      <td>1</td>\n",
       "      <td>ALPHABET CITY</td>\n",
       "      <td>07 RENTALS - WALKUP APARTMENTS</td>\n",
       "      <td>2A</td>\n",
       "      <td>404</td>\n",
       "      <td>55</td>\n",
       "      <td></td>\n",
       "      <td>C2</td>\n",
       "      <td>301 EAST 10TH   STREET</td>\n",
       "      <td></td>\n",
       "      <td>10009</td>\n",
       "      <td>6</td>\n",
       "      <td>0</td>\n",
       "      <td>6</td>\n",
       "      <td>2369</td>\n",
       "      <td>4615</td>\n",
       "      <td>1900</td>\n",
       "      <td>2</td>\n",
       "      <td>C2</td>\n",
       "      <td>8000000</td>\n",
       "      <td>2016-11-17 00:00:00</td>\n",
       "    </tr>\n",
       "    <tr>\n",
       "      <th>...</th>\n",
       "      <td>...</td>\n",
       "      <td>...</td>\n",
       "      <td>...</td>\n",
       "      <td>...</td>\n",
       "      <td>...</td>\n",
       "      <td>...</td>\n",
       "      <td>...</td>\n",
       "      <td>...</td>\n",
       "      <td>...</td>\n",
       "      <td>...</td>\n",
       "      <td>...</td>\n",
       "      <td>...</td>\n",
       "      <td>...</td>\n",
       "      <td>...</td>\n",
       "      <td>...</td>\n",
       "      <td>...</td>\n",
       "      <td>...</td>\n",
       "      <td>...</td>\n",
       "      <td>...</td>\n",
       "      <td>...</td>\n",
       "      <td>...</td>\n",
       "      <td>...</td>\n",
       "    </tr>\n",
       "    <tr>\n",
       "      <th>84543</th>\n",
       "      <td>8409</td>\n",
       "      <td>5</td>\n",
       "      <td>WOODROW</td>\n",
       "      <td>02 TWO FAMILY DWELLINGS</td>\n",
       "      <td>1</td>\n",
       "      <td>7349</td>\n",
       "      <td>34</td>\n",
       "      <td></td>\n",
       "      <td>B9</td>\n",
       "      <td>37 QUAIL LANE</td>\n",
       "      <td></td>\n",
       "      <td>10309</td>\n",
       "      <td>2</td>\n",
       "      <td>0</td>\n",
       "      <td>2</td>\n",
       "      <td>2400</td>\n",
       "      <td>2575</td>\n",
       "      <td>1998</td>\n",
       "      <td>1</td>\n",
       "      <td>B9</td>\n",
       "      <td>450000</td>\n",
       "      <td>2016-11-28 00:00:00</td>\n",
       "    </tr>\n",
       "    <tr>\n",
       "      <th>84544</th>\n",
       "      <td>8410</td>\n",
       "      <td>5</td>\n",
       "      <td>WOODROW</td>\n",
       "      <td>02 TWO FAMILY DWELLINGS</td>\n",
       "      <td>1</td>\n",
       "      <td>7349</td>\n",
       "      <td>78</td>\n",
       "      <td></td>\n",
       "      <td>B9</td>\n",
       "      <td>32 PHEASANT LANE</td>\n",
       "      <td></td>\n",
       "      <td>10309</td>\n",
       "      <td>2</td>\n",
       "      <td>0</td>\n",
       "      <td>2</td>\n",
       "      <td>2498</td>\n",
       "      <td>2377</td>\n",
       "      <td>1998</td>\n",
       "      <td>1</td>\n",
       "      <td>B9</td>\n",
       "      <td>550000</td>\n",
       "      <td>2017-04-21 00:00:00</td>\n",
       "    </tr>\n",
       "    <tr>\n",
       "      <th>84545</th>\n",
       "      <td>8411</td>\n",
       "      <td>5</td>\n",
       "      <td>WOODROW</td>\n",
       "      <td>02 TWO FAMILY DWELLINGS</td>\n",
       "      <td>1</td>\n",
       "      <td>7351</td>\n",
       "      <td>60</td>\n",
       "      <td></td>\n",
       "      <td>B2</td>\n",
       "      <td>49 PITNEY AVENUE</td>\n",
       "      <td></td>\n",
       "      <td>10309</td>\n",
       "      <td>2</td>\n",
       "      <td>0</td>\n",
       "      <td>2</td>\n",
       "      <td>4000</td>\n",
       "      <td>1496</td>\n",
       "      <td>1925</td>\n",
       "      <td>1</td>\n",
       "      <td>B2</td>\n",
       "      <td>460000</td>\n",
       "      <td>2017-07-05 00:00:00</td>\n",
       "    </tr>\n",
       "    <tr>\n",
       "      <th>84546</th>\n",
       "      <td>8412</td>\n",
       "      <td>5</td>\n",
       "      <td>WOODROW</td>\n",
       "      <td>22 STORE BUILDINGS</td>\n",
       "      <td>4</td>\n",
       "      <td>7100</td>\n",
       "      <td>28</td>\n",
       "      <td></td>\n",
       "      <td>K6</td>\n",
       "      <td>2730 ARTHUR KILL ROAD</td>\n",
       "      <td></td>\n",
       "      <td>10309</td>\n",
       "      <td>0</td>\n",
       "      <td>7</td>\n",
       "      <td>7</td>\n",
       "      <td>208033</td>\n",
       "      <td>64117</td>\n",
       "      <td>2001</td>\n",
       "      <td>4</td>\n",
       "      <td>K6</td>\n",
       "      <td>11693337</td>\n",
       "      <td>2016-12-21 00:00:00</td>\n",
       "    </tr>\n",
       "    <tr>\n",
       "      <th>84547</th>\n",
       "      <td>8413</td>\n",
       "      <td>5</td>\n",
       "      <td>WOODROW</td>\n",
       "      <td>35 INDOOR PUBLIC AND CULTURAL FACILITIES</td>\n",
       "      <td>4</td>\n",
       "      <td>7105</td>\n",
       "      <td>679</td>\n",
       "      <td></td>\n",
       "      <td>P9</td>\n",
       "      <td>155 CLAY PIT ROAD</td>\n",
       "      <td></td>\n",
       "      <td>10309</td>\n",
       "      <td>0</td>\n",
       "      <td>1</td>\n",
       "      <td>1</td>\n",
       "      <td>10796</td>\n",
       "      <td>2400</td>\n",
       "      <td>2006</td>\n",
       "      <td>4</td>\n",
       "      <td>P9</td>\n",
       "      <td>69300</td>\n",
       "      <td>2016-10-27 00:00:00</td>\n",
       "    </tr>\n",
       "  </tbody>\n",
       "</table>\n",
       "<p>84548 rows × 22 columns</p>\n",
       "</div>"
      ],
      "text/plain": [
       "       Unnamed: 0  BOROUGH   NEIGHBORHOOD  \\\n",
       "0               4        1  ALPHABET CITY   \n",
       "1               5        1  ALPHABET CITY   \n",
       "2               6        1  ALPHABET CITY   \n",
       "3               7        1  ALPHABET CITY   \n",
       "4               8        1  ALPHABET CITY   \n",
       "...           ...      ...            ...   \n",
       "84543        8409        5        WOODROW   \n",
       "84544        8410        5        WOODROW   \n",
       "84545        8411        5        WOODROW   \n",
       "84546        8412        5        WOODROW   \n",
       "84547        8413        5        WOODROW   \n",
       "\n",
       "                           BUILDING CLASS CATEGORY TAX CLASS AT PRESENT  \\\n",
       "0      07 RENTALS - WALKUP APARTMENTS                                2A   \n",
       "1      07 RENTALS - WALKUP APARTMENTS                                 2   \n",
       "2      07 RENTALS - WALKUP APARTMENTS                                 2   \n",
       "3      07 RENTALS - WALKUP APARTMENTS                                2B   \n",
       "4      07 RENTALS - WALKUP APARTMENTS                                2A   \n",
       "...                                            ...                  ...   \n",
       "84543  02 TWO FAMILY DWELLINGS                                        1   \n",
       "84544  02 TWO FAMILY DWELLINGS                                        1   \n",
       "84545  02 TWO FAMILY DWELLINGS                                        1   \n",
       "84546  22 STORE BUILDINGS                                             4   \n",
       "84547  35 INDOOR PUBLIC AND CULTURAL FACILITIES                       4   \n",
       "\n",
       "       BLOCK  LOT EASE-MENT BUILDING CLASS AT PRESENT                 ADDRESS  \\\n",
       "0        392    6                                  C2            153 AVENUE B   \n",
       "1        399   26                                  C7   234 EAST 4TH   STREET   \n",
       "2        399   39                                  C7   197 EAST 3RD   STREET   \n",
       "3        402   21                                  C4     154 EAST 7TH STREET   \n",
       "4        404   55                                  C2  301 EAST 10TH   STREET   \n",
       "...      ...  ...       ...                       ...                     ...   \n",
       "84543   7349   34                                  B9           37 QUAIL LANE   \n",
       "84544   7349   78                                  B9        32 PHEASANT LANE   \n",
       "84545   7351   60                                  B2        49 PITNEY AVENUE   \n",
       "84546   7100   28                                  K6   2730 ARTHUR KILL ROAD   \n",
       "84547   7105  679                                  P9       155 CLAY PIT ROAD   \n",
       "\n",
       "      APARTMENT NUMBER  ZIP CODE  RESIDENTIAL UNITS  COMMERCIAL UNITS  \\\n",
       "0                          10009                  5                 0   \n",
       "1                          10009                 28                 3   \n",
       "2                          10009                 16                 1   \n",
       "3                          10009                 10                 0   \n",
       "4                          10009                  6                 0   \n",
       "...                ...       ...                ...               ...   \n",
       "84543                      10309                  2                 0   \n",
       "84544                      10309                  2                 0   \n",
       "84545                      10309                  2                 0   \n",
       "84546                      10309                  0                 7   \n",
       "84547                      10309                  0                 1   \n",
       "\n",
       "       TOTAL UNITS LAND SQUARE FEET GROSS SQUARE FEET  YEAR BUILT  \\\n",
       "0                5             1633              6440        1900   \n",
       "1               31             4616             18690        1900   \n",
       "2               17             2212              7803        1900   \n",
       "3               10             2272              6794        1913   \n",
       "4                6             2369              4615        1900   \n",
       "...            ...              ...               ...         ...   \n",
       "84543            2             2400              2575        1998   \n",
       "84544            2             2498              2377        1998   \n",
       "84545            2             4000              1496        1925   \n",
       "84546            7           208033             64117        2001   \n",
       "84547            1            10796              2400        2006   \n",
       "\n",
       "       TAX CLASS AT TIME OF SALE BUILDING CLASS AT TIME OF SALE SALE PRICE  \\\n",
       "0                              2                             C2    6625000   \n",
       "1                              2                             C7        -     \n",
       "2                              2                             C7        -     \n",
       "3                              2                             C4    3936272   \n",
       "4                              2                             C2    8000000   \n",
       "...                          ...                            ...        ...   \n",
       "84543                          1                             B9     450000   \n",
       "84544                          1                             B9     550000   \n",
       "84545                          1                             B2     460000   \n",
       "84546                          4                             K6   11693337   \n",
       "84547                          4                             P9      69300   \n",
       "\n",
       "                 SALE DATE  \n",
       "0      2017-07-19 00:00:00  \n",
       "1      2016-12-14 00:00:00  \n",
       "2      2016-12-09 00:00:00  \n",
       "3      2016-09-23 00:00:00  \n",
       "4      2016-11-17 00:00:00  \n",
       "...                    ...  \n",
       "84543  2016-11-28 00:00:00  \n",
       "84544  2017-04-21 00:00:00  \n",
       "84545  2017-07-05 00:00:00  \n",
       "84546  2016-12-21 00:00:00  \n",
       "84547  2016-10-27 00:00:00  \n",
       "\n",
       "[84548 rows x 22 columns]"
      ]
     },
     "execution_count": 4,
     "metadata": {},
     "output_type": "execute_result"
    }
   ],
   "source": [
    "df = pd.read_csv('Sales.csv') #membaca sales.csv\n",
    "df"
   ]
  },
  {
   "cell_type": "markdown",
   "id": "3d4c2b41",
   "metadata": {},
   "source": [
    "# Preprocessing"
   ]
  },
  {
   "cell_type": "markdown",
   "id": "17b6978c",
   "metadata": {},
   "source": [
    "# df_sale"
   ]
  },
  {
   "cell_type": "code",
   "execution_count": 5,
   "id": "81750a7b",
   "metadata": {},
   "outputs": [
    {
     "data": {
      "text/html": [
       "<div>\n",
       "<style scoped>\n",
       "    .dataframe tbody tr th:only-of-type {\n",
       "        vertical-align: middle;\n",
       "    }\n",
       "\n",
       "    .dataframe tbody tr th {\n",
       "        vertical-align: top;\n",
       "    }\n",
       "\n",
       "    .dataframe thead th {\n",
       "        text-align: right;\n",
       "    }\n",
       "</style>\n",
       "<table border=\"1\" class=\"dataframe\">\n",
       "  <thead>\n",
       "    <tr style=\"text-align: right;\">\n",
       "      <th></th>\n",
       "      <th>BOROUGH</th>\n",
       "      <th>SALE PRICE</th>\n",
       "    </tr>\n",
       "  </thead>\n",
       "  <tbody>\n",
       "    <tr>\n",
       "      <th>0</th>\n",
       "      <td>1</td>\n",
       "      <td>6625000</td>\n",
       "    </tr>\n",
       "    <tr>\n",
       "      <th>1</th>\n",
       "      <td>1</td>\n",
       "      <td>-</td>\n",
       "    </tr>\n",
       "    <tr>\n",
       "      <th>2</th>\n",
       "      <td>1</td>\n",
       "      <td>-</td>\n",
       "    </tr>\n",
       "    <tr>\n",
       "      <th>3</th>\n",
       "      <td>1</td>\n",
       "      <td>3936272</td>\n",
       "    </tr>\n",
       "    <tr>\n",
       "      <th>4</th>\n",
       "      <td>1</td>\n",
       "      <td>8000000</td>\n",
       "    </tr>\n",
       "    <tr>\n",
       "      <th>...</th>\n",
       "      <td>...</td>\n",
       "      <td>...</td>\n",
       "    </tr>\n",
       "    <tr>\n",
       "      <th>84543</th>\n",
       "      <td>5</td>\n",
       "      <td>450000</td>\n",
       "    </tr>\n",
       "    <tr>\n",
       "      <th>84544</th>\n",
       "      <td>5</td>\n",
       "      <td>550000</td>\n",
       "    </tr>\n",
       "    <tr>\n",
       "      <th>84545</th>\n",
       "      <td>5</td>\n",
       "      <td>460000</td>\n",
       "    </tr>\n",
       "    <tr>\n",
       "      <th>84546</th>\n",
       "      <td>5</td>\n",
       "      <td>11693337</td>\n",
       "    </tr>\n",
       "    <tr>\n",
       "      <th>84547</th>\n",
       "      <td>5</td>\n",
       "      <td>69300</td>\n",
       "    </tr>\n",
       "  </tbody>\n",
       "</table>\n",
       "<p>84548 rows × 2 columns</p>\n",
       "</div>"
      ],
      "text/plain": [
       "       BOROUGH SALE PRICE\n",
       "0            1    6625000\n",
       "1            1        -  \n",
       "2            1        -  \n",
       "3            1    3936272\n",
       "4            1    8000000\n",
       "...        ...        ...\n",
       "84543        5     450000\n",
       "84544        5     550000\n",
       "84545        5     460000\n",
       "84546        5   11693337\n",
       "84547        5      69300\n",
       "\n",
       "[84548 rows x 2 columns]"
      ]
     },
     "execution_count": 5,
     "metadata": {},
     "output_type": "execute_result"
    }
   ],
   "source": [
    "#membuat dataframe sale price\n",
    "df_sale = df[['BOROUGH','SALE PRICE']]\n",
    "df_sale"
   ]
  },
  {
   "cell_type": "code",
   "execution_count": 6,
   "id": "ef117fcd",
   "metadata": {},
   "outputs": [
    {
     "data": {
      "text/plain": [
       "BOROUGH  SALE PRICE\n",
       "3        0             8357\n",
       "4         -            8295\n",
       "1         -            3867\n",
       "5         -            2399\n",
       "2        0             1871\n",
       "                       ... \n",
       "3        16250000         1\n",
       "         1628181          1\n",
       "1        1941536          1\n",
       "3        1632254          1\n",
       "         2602039          1\n",
       "Length: 15000, dtype: int64"
      ]
     },
     "execution_count": 6,
     "metadata": {},
     "output_type": "execute_result"
    }
   ],
   "source": [
    "df_sale.value_counts() "
   ]
  },
  {
   "cell_type": "code",
   "execution_count": 7,
   "id": "7747bd06",
   "metadata": {
    "scrolled": true
   },
   "outputs": [],
   "source": [
    "df_sale = df_sale.replace(' -  ', np.nan) # ' -  ' diubah menjadi nan"
   ]
  },
  {
   "cell_type": "code",
   "execution_count": 8,
   "id": "b78fbecf",
   "metadata": {
    "scrolled": true
   },
   "outputs": [],
   "source": [
    "df_sale = df_sale.dropna() #drop nan"
   ]
  },
  {
   "cell_type": "code",
   "execution_count": 9,
   "id": "91d1a56e",
   "metadata": {
    "scrolled": true
   },
   "outputs": [
    {
     "data": {
      "text/html": [
       "<div>\n",
       "<style scoped>\n",
       "    .dataframe tbody tr th:only-of-type {\n",
       "        vertical-align: middle;\n",
       "    }\n",
       "\n",
       "    .dataframe tbody tr th {\n",
       "        vertical-align: top;\n",
       "    }\n",
       "\n",
       "    .dataframe thead th {\n",
       "        text-align: right;\n",
       "    }\n",
       "</style>\n",
       "<table border=\"1\" class=\"dataframe\">\n",
       "  <thead>\n",
       "    <tr style=\"text-align: right;\">\n",
       "      <th></th>\n",
       "      <th>BOROUGH</th>\n",
       "      <th>SALE PRICE</th>\n",
       "    </tr>\n",
       "  </thead>\n",
       "  <tbody>\n",
       "    <tr>\n",
       "      <th>0</th>\n",
       "      <td>1</td>\n",
       "      <td>6625000</td>\n",
       "    </tr>\n",
       "    <tr>\n",
       "      <th>3</th>\n",
       "      <td>1</td>\n",
       "      <td>3936272</td>\n",
       "    </tr>\n",
       "    <tr>\n",
       "      <th>4</th>\n",
       "      <td>1</td>\n",
       "      <td>8000000</td>\n",
       "    </tr>\n",
       "    <tr>\n",
       "      <th>6</th>\n",
       "      <td>1</td>\n",
       "      <td>3192840</td>\n",
       "    </tr>\n",
       "    <tr>\n",
       "      <th>9</th>\n",
       "      <td>1</td>\n",
       "      <td>16232000</td>\n",
       "    </tr>\n",
       "    <tr>\n",
       "      <th>...</th>\n",
       "      <td>...</td>\n",
       "      <td>...</td>\n",
       "    </tr>\n",
       "    <tr>\n",
       "      <th>84543</th>\n",
       "      <td>5</td>\n",
       "      <td>450000</td>\n",
       "    </tr>\n",
       "    <tr>\n",
       "      <th>84544</th>\n",
       "      <td>5</td>\n",
       "      <td>550000</td>\n",
       "    </tr>\n",
       "    <tr>\n",
       "      <th>84545</th>\n",
       "      <td>5</td>\n",
       "      <td>460000</td>\n",
       "    </tr>\n",
       "    <tr>\n",
       "      <th>84546</th>\n",
       "      <td>5</td>\n",
       "      <td>11693337</td>\n",
       "    </tr>\n",
       "    <tr>\n",
       "      <th>84547</th>\n",
       "      <td>5</td>\n",
       "      <td>69300</td>\n",
       "    </tr>\n",
       "  </tbody>\n",
       "</table>\n",
       "<p>69987 rows × 2 columns</p>\n",
       "</div>"
      ],
      "text/plain": [
       "       BOROUGH SALE PRICE\n",
       "0            1    6625000\n",
       "3            1    3936272\n",
       "4            1    8000000\n",
       "6            1    3192840\n",
       "9            1   16232000\n",
       "...        ...        ...\n",
       "84543        5     450000\n",
       "84544        5     550000\n",
       "84545        5     460000\n",
       "84546        5   11693337\n",
       "84547        5      69300\n",
       "\n",
       "[69987 rows x 2 columns]"
      ]
     },
     "execution_count": 9,
     "metadata": {},
     "output_type": "execute_result"
    }
   ],
   "source": [
    "df_sale"
   ]
  },
  {
   "cell_type": "code",
   "execution_count": 10,
   "id": "8d4fc994",
   "metadata": {},
   "outputs": [],
   "source": [
    "df_sale = df_sale.astype('int64') # mengubah tipe data df_sale menjadi int64"
   ]
  },
  {
   "cell_type": "code",
   "execution_count": 11,
   "id": "f17aec70",
   "metadata": {},
   "outputs": [],
   "source": [
    "df_sale.drop(df_sale[df_sale['SALE PRICE'] < 11].index, inplace = True) # drop nilai 0 dan 10"
   ]
  },
  {
   "cell_type": "code",
   "execution_count": 12,
   "id": "cc5e5126",
   "metadata": {},
   "outputs": [
    {
     "data": {
      "text/plain": [
       "BOROUGH  SALE PRICE\n",
       "4        450000        158\n",
       "         650000        147\n",
       "         600000        141\n",
       "         250000        139\n",
       "         400000        132\n",
       "                      ... \n",
       "1        755500          1\n",
       "3        280018          1\n",
       "         280301          1\n",
       "         280878          1\n",
       "5        122000000       1\n",
       "Length: 14979, dtype: int64"
      ]
     },
     "execution_count": 12,
     "metadata": {},
     "output_type": "execute_result"
    }
   ],
   "source": [
    "df_sale.value_counts()"
   ]
  },
  {
   "cell_type": "markdown",
   "id": "e921ebbd",
   "metadata": {},
   "source": [
    "# df_borough"
   ]
  },
  {
   "cell_type": "code",
   "execution_count": 13,
   "id": "686592dc",
   "metadata": {},
   "outputs": [
    {
     "data": {
      "text/html": [
       "<div>\n",
       "<style scoped>\n",
       "    .dataframe tbody tr th:only-of-type {\n",
       "        vertical-align: middle;\n",
       "    }\n",
       "\n",
       "    .dataframe tbody tr th {\n",
       "        vertical-align: top;\n",
       "    }\n",
       "\n",
       "    .dataframe thead th {\n",
       "        text-align: right;\n",
       "    }\n",
       "</style>\n",
       "<table border=\"1\" class=\"dataframe\">\n",
       "  <thead>\n",
       "    <tr style=\"text-align: right;\">\n",
       "      <th></th>\n",
       "      <th>BOROUGH</th>\n",
       "    </tr>\n",
       "  </thead>\n",
       "  <tbody>\n",
       "    <tr>\n",
       "      <th>0</th>\n",
       "      <td>1</td>\n",
       "    </tr>\n",
       "    <tr>\n",
       "      <th>1</th>\n",
       "      <td>1</td>\n",
       "    </tr>\n",
       "    <tr>\n",
       "      <th>2</th>\n",
       "      <td>1</td>\n",
       "    </tr>\n",
       "    <tr>\n",
       "      <th>3</th>\n",
       "      <td>1</td>\n",
       "    </tr>\n",
       "    <tr>\n",
       "      <th>4</th>\n",
       "      <td>1</td>\n",
       "    </tr>\n",
       "  </tbody>\n",
       "</table>\n",
       "</div>"
      ],
      "text/plain": [
       "   BOROUGH\n",
       "0        1\n",
       "1        1\n",
       "2        1\n",
       "3        1\n",
       "4        1"
      ]
     },
     "execution_count": 13,
     "metadata": {},
     "output_type": "execute_result"
    }
   ],
   "source": [
    "#membuat dataframe borough\n",
    "df_borough = df[['BOROUGH']]\n",
    "df_borough.head()"
   ]
  },
  {
   "cell_type": "code",
   "execution_count": 14,
   "id": "7019759f",
   "metadata": {},
   "outputs": [
    {
     "data": {
      "text/plain": [
       "BOROUGH\n",
       "4          26736\n",
       "3          24047\n",
       "1          18306\n",
       "5           8410\n",
       "2           7049\n",
       "dtype: int64"
      ]
     },
     "execution_count": 14,
     "metadata": {},
     "output_type": "execute_result"
    }
   ],
   "source": [
    "df_borough.value_counts()"
   ]
  },
  {
   "cell_type": "markdown",
   "id": "6b59dc76",
   "metadata": {},
   "source": [
    "# df_land"
   ]
  },
  {
   "cell_type": "code",
   "execution_count": 15,
   "id": "4ad0abbe",
   "metadata": {
    "scrolled": true
   },
   "outputs": [
    {
     "data": {
      "text/html": [
       "<div>\n",
       "<style scoped>\n",
       "    .dataframe tbody tr th:only-of-type {\n",
       "        vertical-align: middle;\n",
       "    }\n",
       "\n",
       "    .dataframe tbody tr th {\n",
       "        vertical-align: top;\n",
       "    }\n",
       "\n",
       "    .dataframe thead th {\n",
       "        text-align: right;\n",
       "    }\n",
       "</style>\n",
       "<table border=\"1\" class=\"dataframe\">\n",
       "  <thead>\n",
       "    <tr style=\"text-align: right;\">\n",
       "      <th></th>\n",
       "      <th>LAND SQUARE FEET</th>\n",
       "    </tr>\n",
       "  </thead>\n",
       "  <tbody>\n",
       "    <tr>\n",
       "      <th>0</th>\n",
       "      <td>1633</td>\n",
       "    </tr>\n",
       "    <tr>\n",
       "      <th>1</th>\n",
       "      <td>4616</td>\n",
       "    </tr>\n",
       "    <tr>\n",
       "      <th>2</th>\n",
       "      <td>2212</td>\n",
       "    </tr>\n",
       "    <tr>\n",
       "      <th>3</th>\n",
       "      <td>2272</td>\n",
       "    </tr>\n",
       "    <tr>\n",
       "      <th>4</th>\n",
       "      <td>2369</td>\n",
       "    </tr>\n",
       "  </tbody>\n",
       "</table>\n",
       "</div>"
      ],
      "text/plain": [
       "  LAND SQUARE FEET\n",
       "0             1633\n",
       "1             4616\n",
       "2             2212\n",
       "3             2272\n",
       "4             2369"
      ]
     },
     "execution_count": 15,
     "metadata": {},
     "output_type": "execute_result"
    }
   ],
   "source": [
    "#membuat dataframe LAND SQUARE FEET\n",
    "df_land = df[['LAND SQUARE FEET']]\n",
    "df_land.head()"
   ]
  },
  {
   "cell_type": "code",
   "execution_count": 16,
   "id": "b9f28bab",
   "metadata": {},
   "outputs": [
    {
     "data": {
      "text/plain": [
       "LAND SQUARE FEET\n",
       " -                  26252\n",
       "0                   10326\n",
       "2000                 3919\n",
       "2500                 3470\n",
       "4000                 3044\n",
       "                    ...  \n",
       "3954                    1\n",
       "3957                    1\n",
       "3959                    1\n",
       "12112                   1\n",
       "4241                    1\n",
       "Length: 6062, dtype: int64"
      ]
     },
     "execution_count": 16,
     "metadata": {},
     "output_type": "execute_result"
    }
   ],
   "source": [
    "df_land.value_counts()"
   ]
  },
  {
   "cell_type": "code",
   "execution_count": 17,
   "id": "167cbccb",
   "metadata": {},
   "outputs": [],
   "source": [
    "df_land = df_land.replace(' -  ', np.nan) # ' -  ' diubah menjadi nan"
   ]
  },
  {
   "cell_type": "code",
   "execution_count": 18,
   "id": "a1305274",
   "metadata": {},
   "outputs": [],
   "source": [
    "df_land = df_land.dropna() #drop nan"
   ]
  },
  {
   "cell_type": "code",
   "execution_count": 19,
   "id": "4a65e0c2",
   "metadata": {
    "scrolled": true
   },
   "outputs": [
    {
     "data": {
      "text/plain": [
       "LAND SQUARE FEET\n",
       "0                   10326\n",
       "2000                 3919\n",
       "2500                 3470\n",
       "4000                 3044\n",
       "1800                 1192\n",
       "                    ...  \n",
       "3954                    1\n",
       "3957                    1\n",
       "3959                    1\n",
       "12118                   1\n",
       "4241                    1\n",
       "Length: 6061, dtype: int64"
      ]
     },
     "execution_count": 19,
     "metadata": {},
     "output_type": "execute_result"
    }
   ],
   "source": [
    "df_land.value_counts()"
   ]
  },
  {
   "cell_type": "code",
   "execution_count": 20,
   "id": "822aaf1c",
   "metadata": {},
   "outputs": [],
   "source": [
    "df_land = df_land.astype('int64') # mengubah tipe data df_land menjadi int64"
   ]
  },
  {
   "cell_type": "code",
   "execution_count": 21,
   "id": "cd774cbf",
   "metadata": {},
   "outputs": [],
   "source": [
    "df_land.drop(df_land[df_land['LAND SQUARE FEET'] < 1].index, inplace = True) # drop nilai 0 "
   ]
  },
  {
   "cell_type": "markdown",
   "id": "b1cef964",
   "metadata": {},
   "source": [
    "# df_tax"
   ]
  },
  {
   "cell_type": "code",
   "execution_count": 22,
   "id": "bb99ea2f",
   "metadata": {
    "scrolled": true
   },
   "outputs": [],
   "source": [
    "df_tax = df[['BOROUGH','TAX CLASS AT PRESENT']]"
   ]
  },
  {
   "cell_type": "code",
   "execution_count": 23,
   "id": "be198dbb",
   "metadata": {},
   "outputs": [],
   "source": [
    "df_tax = df_tax.replace([' ','1A','1B','1C','2A','2B','2C'], np.nan) #mengubah data menjadi nan"
   ]
  },
  {
   "cell_type": "code",
   "execution_count": 24,
   "id": "7a2043a6",
   "metadata": {},
   "outputs": [],
   "source": [
    "df_tax = df_tax.dropna() #drop nan"
   ]
  },
  {
   "cell_type": "code",
   "execution_count": 25,
   "id": "4e8c19fb",
   "metadata": {
    "scrolled": false
   },
   "outputs": [
    {
     "data": {
      "text/html": [
       "<div>\n",
       "<style scoped>\n",
       "    .dataframe tbody tr th:only-of-type {\n",
       "        vertical-align: middle;\n",
       "    }\n",
       "\n",
       "    .dataframe tbody tr th {\n",
       "        vertical-align: top;\n",
       "    }\n",
       "\n",
       "    .dataframe thead th {\n",
       "        text-align: right;\n",
       "    }\n",
       "</style>\n",
       "<table border=\"1\" class=\"dataframe\">\n",
       "  <thead>\n",
       "    <tr style=\"text-align: right;\">\n",
       "      <th>TAX CLASS AT PRESENT</th>\n",
       "      <th>1</th>\n",
       "      <th>2</th>\n",
       "      <th>3</th>\n",
       "      <th>4</th>\n",
       "    </tr>\n",
       "    <tr>\n",
       "      <th>BOROUGH</th>\n",
       "      <th></th>\n",
       "      <th></th>\n",
       "      <th></th>\n",
       "      <th></th>\n",
       "    </tr>\n",
       "  </thead>\n",
       "  <tbody>\n",
       "    <tr>\n",
       "      <th>1</th>\n",
       "      <td>341</td>\n",
       "      <td>15320</td>\n",
       "      <td>2</td>\n",
       "      <td>1333</td>\n",
       "    </tr>\n",
       "    <tr>\n",
       "      <th>2</th>\n",
       "      <td>4053</td>\n",
       "      <td>1787</td>\n",
       "      <td>2</td>\n",
       "      <td>530</td>\n",
       "    </tr>\n",
       "    <tr>\n",
       "      <th>3</th>\n",
       "      <td>11753</td>\n",
       "      <td>5839</td>\n",
       "      <td>0</td>\n",
       "      <td>2169</td>\n",
       "    </tr>\n",
       "    <tr>\n",
       "      <th>4</th>\n",
       "      <td>15761</td>\n",
       "      <td>7548</td>\n",
       "      <td>0</td>\n",
       "      <td>1748</td>\n",
       "    </tr>\n",
       "    <tr>\n",
       "      <th>5</th>\n",
       "      <td>6725</td>\n",
       "      <td>425</td>\n",
       "      <td>0</td>\n",
       "      <td>360</td>\n",
       "    </tr>\n",
       "  </tbody>\n",
       "</table>\n",
       "</div>"
      ],
      "text/plain": [
       "TAX CLASS AT PRESENT      1      2  3     4\n",
       "BOROUGH                                    \n",
       "1                       341  15320  2  1333\n",
       "2                      4053   1787  2   530\n",
       "3                     11753   5839  0  2169\n",
       "4                     15761   7548  0  1748\n",
       "5                      6725    425  0   360"
      ]
     },
     "execution_count": 25,
     "metadata": {},
     "output_type": "execute_result"
    }
   ],
   "source": [
    "df_tax = pd.crosstab(df_tax['BOROUGH'], df_tax['TAX CLASS AT PRESENT'])\n",
    "df_tax"
   ]
  },
  {
   "cell_type": "markdown",
   "id": "7e14b9ef",
   "metadata": {},
   "source": [
    "# df_units"
   ]
  },
  {
   "cell_type": "code",
   "execution_count": 26,
   "id": "059025a5",
   "metadata": {},
   "outputs": [],
   "source": [
    "df_units = df[['TOTAL UNITS']]"
   ]
  },
  {
   "cell_type": "code",
   "execution_count": 27,
   "id": "8ee71abc",
   "metadata": {},
   "outputs": [
    {
     "data": {
      "text/plain": [
       "TOTAL UNITS\n",
       "1              38356\n",
       "0              19762\n",
       "2              15914\n",
       "3               5412\n",
       "4               1498\n",
       "               ...  \n",
       "145                1\n",
       "143                1\n",
       "142                1\n",
       "140                1\n",
       "2261               1\n",
       "Length: 192, dtype: int64"
      ]
     },
     "execution_count": 27,
     "metadata": {},
     "output_type": "execute_result"
    }
   ],
   "source": [
    "df_units.value_counts()"
   ]
  },
  {
   "cell_type": "markdown",
   "id": "95b2bf10",
   "metadata": {},
   "source": [
    "# Measure of Central Tendency : Mean"
   ]
  },
  {
   "cell_type": "code",
   "execution_count": 28,
   "id": "749ed18c",
   "metadata": {
    "scrolled": true
   },
   "outputs": [
    {
     "data": {
      "text/plain": [
       "1517966.3068374908"
      ]
     },
     "execution_count": 28,
     "metadata": {},
     "output_type": "execute_result"
    }
   ],
   "source": [
    "mean_sale_price = df_sale['SALE PRICE'].mean() #menghitung mean / rata-rata dari property di New York\n",
    "mean_sale_price"
   ]
  },
  {
   "cell_type": "markdown",
   "id": "836dce49",
   "metadata": {},
   "source": [
    "# Measure of Central Tendency : Median"
   ]
  },
  {
   "cell_type": "code",
   "execution_count": 29,
   "id": "189bd192",
   "metadata": {},
   "outputs": [
    {
     "data": {
      "text/plain": [
       "635000.0"
      ]
     },
     "execution_count": 29,
     "metadata": {},
     "output_type": "execute_result"
    }
   ],
   "source": [
    "median_sale_price = df_sale['SALE PRICE'].median() #menghitung median / nilai tengah dari harga property di New York\n",
    "median_sale_price"
   ]
  },
  {
   "cell_type": "markdown",
   "id": "d9eb108c",
   "metadata": {},
   "source": [
    "# Measure of Central Tendency : Modus"
   ]
  },
  {
   "cell_type": "code",
   "execution_count": 30,
   "id": "d73acda4",
   "metadata": {},
   "outputs": [
    {
     "data": {
      "text/plain": [
       "0    4\n",
       "dtype: int64"
      ]
     },
     "execution_count": 30,
     "metadata": {},
     "output_type": "execute_result"
    }
   ],
   "source": [
    "modus_borough = df_borough['BOROUGH'].mode() #menghitung modus / nilai yang paling banyak keluar dari borough\n",
    "modus_borough"
   ]
  },
  {
   "cell_type": "markdown",
   "id": "ce3f7fce",
   "metadata": {},
   "source": [
    "#  Measure of Spread : Range"
   ]
  },
  {
   "cell_type": "code",
   "execution_count": 31,
   "id": "d3fdcb06",
   "metadata": {},
   "outputs": [
    {
     "data": {
      "text/plain": [
       "2209999999"
      ]
     },
     "execution_count": 31,
     "metadata": {},
     "output_type": "execute_result"
    }
   ],
   "source": [
    "range_sale = np.ptp(df_sale) #menghitung range / max-min dari sale\n",
    "range_sale"
   ]
  },
  {
   "cell_type": "markdown",
   "id": "3d853a0e",
   "metadata": {},
   "source": [
    "# Measure of Spread : Variance"
   ]
  },
  {
   "cell_type": "code",
   "execution_count": 32,
   "id": "a7356b34",
   "metadata": {},
   "outputs": [
    {
     "data": {
      "text/plain": [
       "2137980925.7529352"
      ]
     },
     "execution_count": 32,
     "metadata": {},
     "output_type": "execute_result"
    }
   ],
   "source": [
    "variance_land = df_land['LAND SQUARE FEET'].var(ddof=0) #menghitung variance dari land, ddof=0 karna data populasi yang digunakan\n",
    "variance_land"
   ]
  },
  {
   "cell_type": "markdown",
   "id": "3bbc6c8b",
   "metadata": {},
   "source": [
    "# Measure of Spread : Standard Deviation"
   ]
  },
  {
   "cell_type": "code",
   "execution_count": 33,
   "id": "e270f9b0",
   "metadata": {},
   "outputs": [
    {
     "data": {
      "text/plain": [
       "46238.30582701896"
      ]
     },
     "execution_count": 33,
     "metadata": {},
     "output_type": "execute_result"
    }
   ],
   "source": [
    "SD_land = df_land['LAND SQUARE FEET'].std(ddof=0) #menghitung SD dari land, ddof=0 karna data populasi yang digunakan\n",
    "SD_land"
   ]
  },
  {
   "cell_type": "markdown",
   "id": "3becfd37",
   "metadata": {},
   "source": [
    "# Probability Distribution"
   ]
  },
  {
   "cell_type": "code",
   "execution_count": 34,
   "id": "80545dfe",
   "metadata": {
    "scrolled": true
   },
   "outputs": [
    {
     "data": {
      "text/plain": [
       "<seaborn.axisgrid.FacetGrid at 0x150b84fb520>"
      ]
     },
     "execution_count": 34,
     "metadata": {},
     "output_type": "execute_result"
    },
    {
     "data": {
      "image/png": "[encoded data removed]",
      "text/plain": [
       "<Figure size 540x360 with 1 Axes>"
      ]
     },
     "metadata": {},
     "output_type": "display_data"
    }
   ],
   "source": [
    "#membuat plotting\n",
    "sns.set_style('white')\n",
    "sns.set_context(\"paper\", font_scale = 2)\n",
    "sns.displot(data=df_units, x=\"TOTAL UNITS\", kind=\"hist\", bins = 100, aspect = 1.5)"
   ]
  },
  {
   "cell_type": "code",
   "execution_count": 35,
   "id": "c706e18d",
   "metadata": {},
   "outputs": [],
   "source": [
    "units = df_units[\"TOTAL UNITS\"].values"
   ]
  },
  {
   "cell_type": "code",
   "execution_count": 36,
   "id": "dae9bec7",
   "metadata": {},
   "outputs": [
    {
     "data": {
      "text/html": [
       "<div>\n",
       "<style scoped>\n",
       "    .dataframe tbody tr th:only-of-type {\n",
       "        vertical-align: middle;\n",
       "    }\n",
       "\n",
       "    .dataframe tbody tr th {\n",
       "        vertical-align: top;\n",
       "    }\n",
       "\n",
       "    .dataframe thead th {\n",
       "        text-align: right;\n",
       "    }\n",
       "</style>\n",
       "<table border=\"1\" class=\"dataframe\">\n",
       "  <thead>\n",
       "    <tr style=\"text-align: right;\">\n",
       "      <th></th>\n",
       "      <th>sumsquare_error</th>\n",
       "      <th>aic</th>\n",
       "      <th>bic</th>\n",
       "      <th>kl_div</th>\n",
       "    </tr>\n",
       "  </thead>\n",
       "  <tbody>\n",
       "    <tr>\n",
       "      <th>gamma</th>\n",
       "      <td>0.001919</td>\n",
       "      <td>147417.201261</td>\n",
       "      <td>-1.488119e+06</td>\n",
       "      <td>inf</td>\n",
       "    </tr>\n",
       "  </tbody>\n",
       "</table>\n",
       "</div>"
      ],
      "text/plain": [
       "       sumsquare_error            aic           bic  kl_div\n",
       "gamma         0.001919  147417.201261 -1.488119e+06     inf"
      ]
     },
     "execution_count": 36,
     "metadata": {},
     "output_type": "execute_result"
    },
    {
     "data": {
      "image/png": "[encoded data removed]",
      "text/plain": [
       "<Figure size 360x360 with 1 Axes>"
      ]
     },
     "metadata": {},
     "output_type": "display_data"
    }
   ],
   "source": [
    "#membuat distribusi\n",
    "f = Fitter(units,\n",
    "           distributions=['gamma'])\n",
    "f.fit()\n",
    "f.summary()"
   ]
  },
  {
   "cell_type": "markdown",
   "id": "8d15ed5f",
   "metadata": {},
   "source": [
    "# Convidence Interval"
   ]
  },
  {
   "cell_type": "code",
   "execution_count": 37,
   "id": "7d377e72",
   "metadata": {
    "scrolled": true
   },
   "outputs": [
    {
     "data": {
      "text/html": [
       "<div>\n",
       "<style scoped>\n",
       "    .dataframe tbody tr th:only-of-type {\n",
       "        vertical-align: middle;\n",
       "    }\n",
       "\n",
       "    .dataframe tbody tr th {\n",
       "        vertical-align: top;\n",
       "    }\n",
       "\n",
       "    .dataframe thead th {\n",
       "        text-align: right;\n",
       "    }\n",
       "</style>\n",
       "<table border=\"1\" class=\"dataframe\">\n",
       "  <thead>\n",
       "    <tr style=\"text-align: right;\">\n",
       "      <th>TAX CLASS AT PRESENT</th>\n",
       "      <th>1</th>\n",
       "      <th>2</th>\n",
       "      <th>3</th>\n",
       "      <th>4</th>\n",
       "    </tr>\n",
       "    <tr>\n",
       "      <th>BOROUGH</th>\n",
       "      <th></th>\n",
       "      <th></th>\n",
       "      <th></th>\n",
       "      <th></th>\n",
       "    </tr>\n",
       "  </thead>\n",
       "  <tbody>\n",
       "    <tr>\n",
       "      <th>1</th>\n",
       "      <td>341</td>\n",
       "      <td>15320</td>\n",
       "      <td>2</td>\n",
       "      <td>1333</td>\n",
       "    </tr>\n",
       "    <tr>\n",
       "      <th>2</th>\n",
       "      <td>4053</td>\n",
       "      <td>1787</td>\n",
       "      <td>2</td>\n",
       "      <td>530</td>\n",
       "    </tr>\n",
       "    <tr>\n",
       "      <th>3</th>\n",
       "      <td>11753</td>\n",
       "      <td>5839</td>\n",
       "      <td>0</td>\n",
       "      <td>2169</td>\n",
       "    </tr>\n",
       "    <tr>\n",
       "      <th>4</th>\n",
       "      <td>15761</td>\n",
       "      <td>7548</td>\n",
       "      <td>0</td>\n",
       "      <td>1748</td>\n",
       "    </tr>\n",
       "    <tr>\n",
       "      <th>5</th>\n",
       "      <td>6725</td>\n",
       "      <td>425</td>\n",
       "      <td>0</td>\n",
       "      <td>360</td>\n",
       "    </tr>\n",
       "  </tbody>\n",
       "</table>\n",
       "</div>"
      ],
      "text/plain": [
       "TAX CLASS AT PRESENT      1      2  3     4\n",
       "BOROUGH                                    \n",
       "1                       341  15320  2  1333\n",
       "2                      4053   1787  2   530\n",
       "3                     11753   5839  0  2169\n",
       "4                     15761   7548  0  1748\n",
       "5                      6725    425  0   360"
      ]
     },
     "execution_count": 37,
     "metadata": {},
     "output_type": "execute_result"
    }
   ],
   "source": [
    "df_tax"
   ]
  },
  {
   "cell_type": "code",
   "execution_count": 38,
   "id": "8b49e602",
   "metadata": {},
   "outputs": [
    {
     "data": {
      "text/plain": [
       "0.353257328990228"
      ]
     },
     "execution_count": 38,
     "metadata": {},
     "output_type": "execute_result"
    }
   ],
   "source": [
    "n = df_tax['4'].sum() #jumlah\n",
    "p_tax = 2169/(n) #hitung proporsi\n",
    "p_tax"
   ]
  },
  {
   "cell_type": "code",
   "execution_count": 39,
   "id": "0c9ed6fd",
   "metadata": {
    "scrolled": true
   },
   "outputs": [
    {
     "data": {
      "text/plain": [
       "(0.34130162224738486, 0.3652130357330711)"
      ]
     },
     "execution_count": 39,
     "metadata": {},
     "output_type": "execute_result"
    }
   ],
   "source": [
    "sm.stats.proportion_confint(n * p_tax, n) #Confidence interval"
   ]
  },
  {
   "cell_type": "markdown",
   "id": "a670d5ac",
   "metadata": {},
   "source": [
    "# Hypothesis Testing"
   ]
  },
  {
   "cell_type": "markdown",
   "id": "ead7a6d0",
   "metadata": {},
   "source": [
    "Apakah Brox memiliki harga rata-rata yang lebih tinggi secara signifikan daripada Manhattan?\n",
    "\n",
    "Population: New York City data.\n",
    "Parameter of Interest: μ1−μ2, price.\n",
    "\n",
    "Null Hypothesis: μ1=μ2\n",
    "Alternative Hypthosis: μ1≠μ2\n",
    "\n",
    "Data:\n",
    "\n",
    "Manhattan 14310\n",
    "\n",
    "μ1=3368041.74\n",
    "\n",
    "σ1=24204069.14\n",
    "\n",
    "\n",
    "Bronx 5063\n",
    "\n",
    "μ2=821701.37\n",
    "\n",
    "σ2=3254833.18\n",
    "\n",
    "\n",
    "\n",
    "μ1−μ2=2546340.37"
   ]
  },
  {
   "cell_type": "code",
   "execution_count": 40,
   "id": "cc88a095",
   "metadata": {},
   "outputs": [],
   "source": [
    "manhattan = df_sale[df_sale[\"BOROUGH\"] == 1]\n",
    "bronx = df_sale[df_sale[\"BOROUGH\"] == 2]"
   ]
  },
  {
   "cell_type": "code",
   "execution_count": 41,
   "id": "46f29590",
   "metadata": {},
   "outputs": [
    {
     "data": {
      "text/plain": [
       "(14310, 3368041.7479385044, 24204069.147396088)"
      ]
     },
     "execution_count": 41,
     "metadata": {},
     "output_type": "execute_result"
    }
   ],
   "source": [
    "n1 = len(manhattan)\n",
    "mu1 = manhattan[\"SALE PRICE\"].mean()\n",
    "sd1 = manhattan[\"SALE PRICE\"].std()\n",
    "\n",
    "(n1, mu1, sd1)"
   ]
  },
  {
   "cell_type": "code",
   "execution_count": 42,
   "id": "3ab7b32f",
   "metadata": {},
   "outputs": [
    {
     "data": {
      "text/plain": [
       "(5063, 821701.3723089078, 3254833.1876239507)"
      ]
     },
     "execution_count": 42,
     "metadata": {},
     "output_type": "execute_result"
    }
   ],
   "source": [
    "n2 = len(bronx)\n",
    "mu2 = bronx[\"SALE PRICE\"].mean()\n",
    "sd2 = bronx[\"SALE PRICE\"].std()\n",
    "\n",
    "(n2, mu2, sd2)"
   ]
  },
  {
   "cell_type": "code",
   "execution_count": 43,
   "id": "db9c4e34",
   "metadata": {},
   "outputs": [
    {
     "data": {
      "text/plain": [
       "(7.461739275554681, 8.538772433295153e-14)"
      ]
     },
     "execution_count": 43,
     "metadata": {},
     "output_type": "execute_result"
    }
   ],
   "source": [
    "sm.stats.ztest(manhattan[\"SALE PRICE\"], bronx[\"SALE PRICE\"],alternative='two-sided')"
   ]
  },
  {
   "cell_type": "markdown",
   "id": "28905b5c",
   "metadata": {},
   "source": [
    "reject the Null hypothesis"
   ]
  },
  {
   "cell_type": "code",
   "execution_count": 44,
   "id": "414846cc",
   "metadata": {},
   "outputs": [
    {
     "data": {
      "image/png": "[encoded data removed]",
      "text/plain": [
       "<Figure size 576x360 with 1 Axes>"
      ]
     },
     "metadata": {},
     "output_type": "display_data"
    },
    {
     "data": {
      "image/png": "[encoded data removed]",
      "text/plain": [
       "<Figure size 576x360 with 1 Axes>"
      ]
     },
     "metadata": {},
     "output_type": "display_data"
    }
   ],
   "source": [
    "plt.figure(figsize=(8,5))\n",
    "plt.title(\"Manhattan Price Histogram\",fontsize=16)\n",
    "plt.hist(manhattan[\"SALE PRICE\"],edgecolor='k',color='pink',bins=5)\n",
    "plt.show()\n",
    "\n",
    "plt.figure(figsize=(8,5))\n",
    "plt.title(\"Bronx Price Histogram\",fontsize=16)\n",
    "plt.hist(bronx[\"SALE PRICE\"],edgecolor='k',color='blue',bins=5)\n",
    "plt.show()"
   ]
  }
 ],
 "metadata": {
  "kernelspec": {
   "display_name": "Python 3",
   "language": "python",
   "name": "python3"
  },
  "language_info": {
   "codemirror_mode": {
    "name": "ipython",
    "version": 3
   },
   "file_extension": ".py",
   "mimetype": "text/x-python",
   "name": "python",
   "nbconvert_exporter": "python",
   "pygments_lexer": "ipython3",
   "version": "3.8.8"
  }
 },
 "nbformat": 4,
 "nbformat_minor": 5
}
