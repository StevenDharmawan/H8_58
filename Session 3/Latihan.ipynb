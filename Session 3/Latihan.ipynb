{
 "cells": [
  {
   "cell_type": "code",
   "execution_count": 14,
   "id": "63c7063b",
   "metadata": {},
   "outputs": [
    {
     "name": "stdout",
     "output_type": "stream",
     "text": [
      "15\n",
      "120\n"
     ]
    }
   ],
   "source": [
    "#Nomor 1\n",
    "\n",
    "def Sum(angka):\n",
    "    hasil = 0\n",
    "    for i in angka:\n",
    "        hasil += i\n",
    "    return hasil\n",
    "\n",
    "def Multiplies(angka):\n",
    "    hasil = angka[0]\n",
    "    for i in angka:\n",
    "        hasil *= i\n",
    "    return hasil\n",
    "    \n",
    "angka = [1,2,3,4,5]\n",
    "\n",
    "print(Sum(angka))\n",
    "print(Multiplies(angka))\n"
   ]
  },
  {
   "cell_type": "code",
   "execution_count": 20,
   "id": "e07c5fae",
   "metadata": {},
   "outputs": [
    {
     "name": "stdout",
     "output_type": "stream",
     "text": [
      "gnitseT mA I\n",
      "gnitseT mA I\n"
     ]
    }
   ],
   "source": [
    "#Nomor 2\n",
    "def Reverse(string):\n",
    "    kata = string [::-1]\n",
    "    return kata\n",
    "def reverse(string):\n",
    "    panjang = len(string)\n",
    "    kata = \"\"\n",
    "    for i in range(0,panjang):\n",
    "        kata = kata + string[panjang-i-1]\n",
    "    return kata\n",
    "    \n",
    "string = \"I Am Testing\"\n",
    "\n",
    "print(Reverse(string))\n",
    "print(reverse(string))"
   ]
  }
 ],
 "metadata": {
  "kernelspec": {
   "display_name": "Python 3",
   "language": "python",
   "name": "python3"
  },
  "language_info": {
   "codemirror_mode": {
    "name": "ipython",
    "version": 3
   },
   "file_extension": ".py",
   "mimetype": "text/x-python",
   "name": "python",
   "nbconvert_exporter": "python",
   "pygments_lexer": "ipython3",
   "version": "3.8.8"
  }
 },
 "nbformat": 4,
 "nbformat_minor": 5
}
