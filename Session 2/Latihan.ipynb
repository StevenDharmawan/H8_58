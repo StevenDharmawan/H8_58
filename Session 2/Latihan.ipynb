{
 "cells": [
  {
   "cell_type": "code",
   "execution_count": 16,
   "id": "494b2657",
   "metadata": {},
   "outputs": [
    {
     "name": "stdout",
     "output_type": "stream",
     "text": [
      "Masukkan Angka: 2\n",
      "genap\n"
     ]
    }
   ],
   "source": [
    "import random\n",
    "#Nomor 1\n",
    "angka = int(input(\"Masukkan Angka: \"))\n",
    "\n",
    "if angka % 2 == 0:\n",
    "    print(\"genap\")\n",
    "else :\n",
    "    print(\"ganjil\")"
   ]
  },
  {
   "cell_type": "code",
   "execution_count": 13,
   "id": "a7da5796",
   "metadata": {},
   "outputs": [
    {
     "name": "stdout",
     "output_type": "stream",
     "text": [
      "Masukkan Angka: 8\n",
      "1\n",
      "2\n",
      "4\n"
     ]
    }
   ],
   "source": [
    "#Nomor 2\n",
    "x = int(input(\"Masukkan Angka: \"))\n",
    "\n",
    "for i in range(1, x):\n",
    "    y = x % i\n",
    "    if y == 0:\n",
    "        print(i)"
   ]
  },
  {
   "cell_type": "code",
   "execution_count": 14,
   "id": "ec120dfa",
   "metadata": {},
   "outputs": [
    {
     "name": "stdout",
     "output_type": "stream",
     "text": [
      "Masukkan Nilai: 79\n",
      "B+\n"
     ]
    }
   ],
   "source": [
    "#Nomor 3\n",
    "def hitungNilai(nilai):\n",
    "    if nilai >= 85:\n",
    "        print(\"A\")\n",
    "    elif nilai < 85 and nilai >=80:\n",
    "        print(\"A-\")\n",
    "    elif nilai < 80 and nilai >=75:\n",
    "        print(\"B+\")\n",
    "    elif nilai < 75 and nilai >=70:\n",
    "        print(\"B\")\n",
    "    elif nilai < 70 and nilai >=65:\n",
    "        print(\"B-\")\n",
    "    elif nilai < 65 and nilai >=60:\n",
    "        print(\"C+\")\n",
    "    elif nilai < 60 and nilai >=55:\n",
    "        print(\"C\")\n",
    "    elif nilai < 55:\n",
    "        print(\"D\")\n",
    "        \n",
    "nilai = int(input(\"Masukkan Nilai: \"))\n",
    "hitungNilai(nilai)"
   ]
  },
  {
   "cell_type": "code",
   "execution_count": 28,
   "id": "74352dfe",
   "metadata": {},
   "outputs": [
    {
     "name": "stdout",
     "output_type": "stream",
     "text": [
      "7\n",
      "Masukkan Angka:5\n",
      "Too Low\n",
      "Masukkan Angka:6\n",
      "Too Low\n",
      "Masukkan Angka:8\n",
      "Too High\n",
      "Masukkan Angka:7\n",
      "You Got It!\n"
     ]
    }
   ],
   "source": [
    "#Nomor 4 \n",
    "angkaRandom = random.randint(1, 9)\n",
    "print(angkaRandom)\n",
    "kondisi = True\n",
    "\n",
    "while kondisi :\n",
    "    angka = int(input(\"Masukkan Angka:\"))\n",
    "    if(angka == angkaRandom):\n",
    "        print(\"You Got It!\")\n",
    "        kondisi = False\n",
    "    elif(angka < angkaRandom):\n",
    "        print(\"Too Low\")\n",
    "    else:\n",
    "        print(\"Too High\")"
   ]
  },
  {
   "cell_type": "code",
   "execution_count": null,
   "id": "eec01702",
   "metadata": {},
   "outputs": [],
   "source": []
  }
 ],
 "metadata": {
  "kernelspec": {
   "display_name": "Python 3",
   "language": "python",
   "name": "python3"
  },
  "language_info": {
   "codemirror_mode": {
    "name": "ipython",
    "version": 3
   },
   "file_extension": ".py",
   "mimetype": "text/x-python",
   "name": "python",
   "nbconvert_exporter": "python",
   "pygments_lexer": "ipython3",
   "version": "3.8.8"
  }
 },
 "nbformat": 4,
 "nbformat_minor": 5
}
